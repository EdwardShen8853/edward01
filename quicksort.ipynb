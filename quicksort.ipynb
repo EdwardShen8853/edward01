{
 "cells": [
  {
   "cell_type": "code",
   "execution_count": 2,
   "metadata": {},
   "outputs": [
    {
     "name": "stdout",
     "output_type": "stream",
     "text": [
      "result: [2, 3, 11, 16, 21, 22, 37, 55, 57]\n"
     ]
    }
   ],
   "source": [
    "def quick_sort(list): #extra-place\n",
    "    s = []\n",
    "    b = []\n",
    "    k = []\n",
    "\n",
    "    if len(list) <= 1:\n",
    "        return list\n",
    "\n",
    "    else:\n",
    "        key = list[0] #第一個數為key值\n",
    "        for i in list:\n",
    "            if i < key: #比key值小的數\n",
    "                s.append(i)\n",
    "            elif i > key: #比key值大的數\n",
    "                b.append(i)\n",
    "            else:\n",
    "                k.append(i)\n",
    "\n",
    "    s = quick_sort(s)\n",
    "    b = quick_sort(b)\n",
    "    return s + k + b\n",
    "\n",
    "mylist = [3,16,22,11,2,37,57,55,21]\n",
    "print(\"result:\",quick_sort(mylist))"
   ]
  }
 ],
 "metadata": {
  "kernelspec": {
   "display_name": "Python 3",
   "language": "python",
   "name": "python3"
  },
  "language_info": {
   "codemirror_mode": {
    "name": "ipython",
    "version": 3
   },
   "file_extension": ".py",
   "mimetype": "text/x-python",
   "name": "python",
   "nbconvert_exporter": "python",
   "pygments_lexer": "ipython3",
   "version": "3.7.1"
  }
 },
 "nbformat": 4,
 "nbformat_minor": 2
}
